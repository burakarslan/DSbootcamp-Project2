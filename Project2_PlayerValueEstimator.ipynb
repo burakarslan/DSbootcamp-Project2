{
 "cells": [
  {
   "cell_type": "code",
   "execution_count": 2,
   "metadata": {},
   "outputs": [],
   "source": [
    "#İmport all required libaries first.\n",
    "import pandas as pd\n",
    "import numpy as np\n",
    "import matplotlib as plot\n",
    "%matplotlib inline\n",
    "import seaborn as sns\n",
    "from bs4 import BeautifulSoup\n",
    "import requests\n",
    "\n",
    "from random import randint\n",
    "from time import sleep\n",
    "import statsmodels.api as sm\n",
    "import statsmodels.formula.api as smf\n",
    "import patsy\n",
    "\n",
    "from sklearn.linear_model import LinearRegression\n",
    "from sklearn.linear_model import RidgeCV\n",
    "\n"
   ]
  },
  {
   "cell_type": "code",
   "execution_count": 14,
   "metadata": {},
   "outputs": [],
   "source": [
    "stats = pd.read_csv('Big5Stats.txt',sep=\";\")"
   ]
  },
  {
   "cell_type": "code",
   "execution_count": 16,
   "metadata": {},
   "outputs": [
    {
     "name": "stdout",
     "output_type": "stream",
     "text": [
      "<class 'pandas.core.frame.DataFrame'>\n",
      "RangeIndex: 12058 entries, 0 to 12057\n",
      "Data columns (total 34 columns):\n",
      " #   Column           Non-Null Count  Dtype  \n",
      "---  ------           --------------  -----  \n",
      " 0   Unnamed: 0       12058 non-null  int64  \n",
      " 1   Player           12058 non-null  object \n",
      " 2   Position         12058 non-null  object \n",
      " 3   Comp             12058 non-null  object \n",
      " 4   Age              12053 non-null  float64\n",
      " 5   Min              12058 non-null  object \n",
      " 6   Goals            12058 non-null  float64\n",
      " 7   GoalsPer90       12058 non-null  float64\n",
      " 8   Asists           12058 non-null  int64  \n",
      " 9   AsistsPer90      12058 non-null  float64\n",
      " 10  GoalAstPer90     12058 non-null  float64\n",
      " 11  90s              12058 non-null  float64\n",
      " 12  SCA              12057 non-null  float64\n",
      " 13  SCA90            12057 non-null  float64\n",
      " 14  ShootPass        12057 non-null  float64\n",
      " 15  ShootDrib        12057 non-null  float64\n",
      " 16  GCA              12057 non-null  float64\n",
      " 17  GCA90            12057 non-null  float64\n",
      " 18  AssistPass       12057 non-null  float64\n",
      " 19  AssistDrib       12057 non-null  float64\n",
      " 20  CompletedPasses  12057 non-null  float64\n",
      " 21  PassCompRatio    12039 non-null  float64\n",
      " 22  TotDistPass      12057 non-null  float64\n",
      " 23  ProgDistPass     12057 non-null  float64\n",
      " 24  Crosses          12058 non-null  int64  \n",
      " 25  PenaltyWon       12057 non-null  float64\n",
      " 26  AerialWonRate    11077 non-null  float64\n",
      " 27  ShootOnTarget    12058 non-null  int64  \n",
      " 28  ShootPer90       12058 non-null  float64\n",
      " 29  GoalPerShoot     9625 non-null   float64\n",
      " 30  TacklesWon       12058 non-null  int64  \n",
      " 31  TklDribbling     12057 non-null  float64\n",
      " 32  Blocks           12057 non-null  float64\n",
      " 33  SuccPressRatio   11714 non-null  float64\n",
      "dtypes: float64(25), int64(5), object(4)\n",
      "memory usage: 3.1+ MB\n"
     ]
    }
   ],
   "source": [
    " "
   ]
  },
  {
   "cell_type": "code",
   "execution_count": null,
   "metadata": {},
   "outputs": [],
   "source": []
  },
  {
   "cell_type": "code",
   "execution_count": null,
   "metadata": {},
   "outputs": [],
   "source": []
  }
 ],
 "metadata": {
  "kernelspec": {
   "display_name": "Python 3",
   "language": "python",
   "name": "python3"
  },
  "language_info": {
   "codemirror_mode": {
    "name": "ipython",
    "version": 3
   },
   "file_extension": ".py",
   "mimetype": "text/x-python",
   "name": "python",
   "nbconvert_exporter": "python",
   "pygments_lexer": "ipython3",
   "version": "3.8.5"
  }
 },
 "nbformat": 4,
 "nbformat_minor": 4
}
